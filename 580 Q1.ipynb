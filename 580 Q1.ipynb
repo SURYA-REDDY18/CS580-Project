{
 "cells": [
  {
   "cell_type": "code",
   "execution_count": 4,
   "metadata": {},
   "outputs": [
    {
     "name": "stdout",
     "output_type": "stream",
     "text": [
      "[(2, 5, 2), (2, 5, 2), (3, 5, 2), (3, 5, 2), (4, 6, 0), (5, 6, 0), (6, 9, 8), (9, 2, 6), (9, 2, 4)]\n"
     ]
    }
   ],
   "source": [
    "def hash_join(R1, R2):\n",
    "    hash_table = {} \n",
    "    result = []  \n",
    "\n",
    "    # Hashing phase\n",
    "    for b, c in R2:\n",
    "        if b not in hash_table:\n",
    "            hash_table[b] = []\n",
    "        hash_table[b].append((b, c))\n",
    "\n",
    "    # Join phase\n",
    "    for a, b in R1:\n",
    "        if b in hash_table:\n",
    "            for tuple in hash_table[b]:\n",
    "                result.append((a, b, tuple[1]))\n",
    "\n",
    "    return result\n",
    "\n",
    "R1 = [(0, 3), (1, 4), (2, 5), (3, 5), (4, 6), (5, 6), (6, 9), (7, 1), (8, 1), (9, 2)]\n",
    "R2 = [(0, 7), (0, 7), (2, 6), (2, 4), (5, 2), (5, 2), (6, 0), (8, 0), (8, 1), (9, 8)]\n",
    "\n",
    "result = hash_join(R1, R2)\n",
    "print(result)\n",
    "\n"
   ]
  }
 ],
 "metadata": {
  "kernelspec": {
   "display_name": "Python 3",
   "language": "python",
   "name": "python3"
  },
  "language_info": {
   "codemirror_mode": {
    "name": "ipython",
    "version": 3
   },
   "file_extension": ".py",
   "mimetype": "text/x-python",
   "name": "python",
   "nbconvert_exporter": "python",
   "pygments_lexer": "ipython3",
   "version": "3.11.5"
  }
 },
 "nbformat": 4,
 "nbformat_minor": 2
}
