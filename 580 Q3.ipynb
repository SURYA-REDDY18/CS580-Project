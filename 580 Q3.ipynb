{
 "cells": [
  {
   "cell_type": "markdown",
   "metadata": {},
   "source": [
    "# Actual Algorithm\n",
    "\n",
    "Tested Algorithm in the next cell below the actual algorithm cell"
   ]
  },
  {
   "cell_type": "code",
   "execution_count": 17,
   "metadata": {},
   "outputs": [
    {
     "name": "stdout",
     "output_type": "stream",
     "text": [
      "[]\n"
     ]
    }
   ],
   "source": [
    "import random\n",
    "\n",
    "def hash_relation(relation, join_attribute_index):\n",
    "    hash_map = {}\n",
    "    for tuple_ in relation:\n",
    "        key = tuple_[join_attribute_index]\n",
    "        if key in hash_map:\n",
    "            hash_map[key].append(tuple_)\n",
    "        else:\n",
    "            hash_map[key] = [tuple_]\n",
    "    return hash_map\n",
    "\n",
    "def line_join(relations):\n",
    "    # Start by hashing the second relation using the first attribute (for R2, R3, ..., Rk)\n",
    "    join_result = relations[0]  # Initially, the join result is just the first relation (R1)\n",
    "    for i in range(1, len(relations)):\n",
    "        hash_map = hash_relation(relations[i], 0)  \n",
    "        new_join_result = []\n",
    "        for tuple_ in join_result:\n",
    "            join_key = tuple_[-1] \n",
    "            for join_tuple in hash_map.get(join_key, []):\n",
    "                \n",
    "                new_join_result.append(tuple_ + join_tuple[1:])  \n",
    "        \n",
    "        join_result = new_join_result\n",
    "    \n",
    "    return join_result\n",
    "\n",
    "\n",
    "def generate_random_relation(num_tuples, num_attributes):\n",
    "    return [[random.randint(1, 10) for i in range(num_attributes)] for j in range(num_tuples)]\n",
    "\n",
    "# Generate random data for K relations (As per question) with 10 tuples, each with 2 attributes. ACTUAL PART OF THE ALGORITHM\n",
    "R1 = generate_random_relation(10, 2)  \n",
    "R2 = generate_random_relation(10, 2)  \n",
    "R3 = generate_random_relation(10, 2)  \n",
    "R4 = generate_random_relation(10, 2) \n",
    "\n",
    "result = line_join([R1, R2, R3, R4]) # K relations to be used instead of 4 here\n",
    "\n",
    "print(result)\n"
   ]
  },
  {
   "cell_type": "markdown",
   "metadata": {},
   "source": [
    "# Testing the Algorithm"
   ]
  },
  {
   "cell_type": "code",
   "execution_count": 19,
   "metadata": {},
   "outputs": [
    {
     "name": "stdout",
     "output_type": "stream",
     "text": [
      "[(2, 5, 2, 7, 0), (2, 5, 2, 7, 0), (3, 5, 2, 7, 0), (3, 5, 2, 7, 0), (6, 9, 8, 1, 9), (9, 2, 6, 3, 9), (9, 2, 4, 5, 9)]\n"
     ]
    }
   ],
   "source": [
    "# Generate random data for K relations (As per question) with 5 tuples, each with 2 attributes. ACTUAL PART OF THE ALGORITHM\n",
    "''' \n",
    "R1 = generate_random_relation(10, 2)  \n",
    "R2 = generate_random_relation(10, 2)  \n",
    "R3 = generate_random_relation(10, 2)  \n",
    "R4 = generate_random_relation(10, 2)\n",
    "\n",
    "'''\n",
    "\n",
    "#Commenting the randomly generated relations for testing purpose.\n",
    "\n",
    "#Taking 4 relations with 10 tuples each.\n",
    "R1 = [(0, 3), (1, 4), (2, 5), (3, 5), (4, 6), (5, 6), (6, 9), (7, 1), (8, 1), (9, 2)]\n",
    "R2 = [(0, 7), (0, 7), (2, 6), (2, 4), (5, 2), (5, 2), (6, 0), (8, 0), (8, 1), (9, 8)]\n",
    "R3 = [(0, 9), (1, 8), (2, 7), (3, 6), (4, 5), (5, 4), (6, 3), (7, 2), (8, 1), (9, 0)]\n",
    "R4 = [(2, 5), (2, 3), (3, 9), (5, 9), (1, 9), (6, 6), (6, 2), (6, 1), (7, 0), (8, 0)]\n",
    "\n",
    "result = line_join([R1, R2, R3, R4])\n",
    "\n",
    "print(result)\n"
   ]
  }
 ],
 "metadata": {
  "kernelspec": {
   "display_name": "Python 3",
   "language": "python",
   "name": "python3"
  },
  "language_info": {
   "codemirror_mode": {
    "name": "ipython",
    "version": 3
   },
   "file_extension": ".py",
   "mimetype": "text/x-python",
   "name": "python",
   "nbconvert_exporter": "python",
   "pygments_lexer": "ipython3",
   "version": "3.11.5"
  }
 },
 "nbformat": 4,
 "nbformat_minor": 2
}
