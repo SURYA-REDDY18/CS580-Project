{
 "cells": [
  {
   "cell_type": "code",
   "execution_count": 5,
   "metadata": {},
   "outputs": [
    {
     "name": "stdout",
     "output_type": "stream",
     "text": [
      "[(2, 5, 2, 7), (2, 5, 2, 7), (3, 5, 2, 7), (3, 5, 2, 7), (4, 6, 0, 9), (5, 6, 0, 9), (6, 9, 8, 1), (9, 2, 6, 3), (9, 2, 4, 5)]\n"
     ]
    }
   ],
   "source": [
    "class SimplifiedYannakakis:\n",
    "    def __init__(self, relations):\n",
    "        self.relations = relations\n",
    "\n",
    "    def perform_semi_join(self, r1, r2):\n",
    "        \"\"\"\n",
    "        Performs a semi-join reduction between two relations r1 and r2.\n",
    "        This will reduce r1 based on what is in r2.\n",
    "        \"\"\"\n",
    "        join_attribute_r1 = {t[1] for t in r1}\n",
    "        join_attribute_r2 = {t[0] for t in r2}\n",
    "        semi_join_result = join_attribute_r1.intersection(join_attribute_r2)\n",
    "\n",
    "        return [t for t in r1 if t[1] in semi_join_result]\n",
    "\n",
    "    def reduce_relations(self):\n",
    "        #Reduce each relation based on the semi-join with the next relation.\n",
    "        for i in reversed(range(len(self.relations) - 1)):\n",
    "            self.relations[i] = self.perform_semi_join(self.relations[i], self.relations[i + 1])\n",
    "\n",
    "    def execute_join(self):\n",
    "        \n",
    "        self.reduce_relations()\n",
    "\n",
    "        # Perform the join starting from the first relation\n",
    "        join_result = self.relations[0]\n",
    "        for i in range(1, len(self.relations)):\n",
    "            next_relation = self.relations[i]\n",
    "            # Perform the join between join_result and next_relation\n",
    "            join_result = [(t1[0],) + t1[1:] + t2[1:] for t1 in join_result for t2 in next_relation if t1[-1] == t2[0]]\n",
    "\n",
    "        return join_result\n",
    "\n",
    "R1 = [(0, 3), (1, 4), (2, 5), (3, 5), (4, 6), (5, 6), (6, 9), (7, 1), (8, 1), (9, 2)]\n",
    "R2 = [(0, 7), (0, 7), (2, 6), (2, 4), (5, 2), (5, 2), (6, 0), (8, 0), (8, 1), (9, 8)]\n",
    "R3 = [(0, 9), (1, 8), (2, 7), (3, 6), (4, 5), (5, 4), (6, 3), (7, 2), (8, 1), (9, 0)]\n",
    "yannakakis = SimplifiedYannakakis([R1, R2, R3])\n",
    "\n",
    "join_result = yannakakis.execute_join()\n",
    "print(join_result)\n"
   ]
  }
 ],
 "metadata": {
  "kernelspec": {
   "display_name": "Python 3",
   "language": "python",
   "name": "python3"
  },
  "language_info": {
   "codemirror_mode": {
    "name": "ipython",
    "version": 3
   },
   "file_extension": ".py",
   "mimetype": "text/x-python",
   "name": "python",
   "nbconvert_exporter": "python",
   "pygments_lexer": "ipython3",
   "version": "3.11.5"
  }
 },
 "nbformat": 4,
 "nbformat_minor": 2
}
